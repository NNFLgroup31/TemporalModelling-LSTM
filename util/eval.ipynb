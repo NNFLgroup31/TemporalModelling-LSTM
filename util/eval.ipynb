{
  "nbformat": 4,
  "nbformat_minor": 0,
  "metadata": {
    "colab": {
      "name": "eval.ipynb",
      "provenance": []
    },
    "kernelspec": {
      "name": "python3",
      "display_name": "Python 3"
    }
  },
  "cells": [
    {
      "cell_type": "code",
      "metadata": {
        "id": "o_fjR9tQYZrL",
        "colab_type": "code",
        "colab": {}
      },
      "source": [
        "import numpy as np\n",
        "import sklearn\n",
        "\n",
        "def inverse_confusion_matrix(cm):\n",
        "  # inverse of sklearn confusion matrix\n",
        "  y_true=[]\n",
        "  y_predicted=[]\n",
        "  rows,cols=cm.shape\n",
        "  for r in range(rows):\n",
        "    for c in range(cols):\n",
        "      for i in range(cm[r,c]):\n",
        "        y_true.append(r)\n",
        "        y_true.append(c)\n",
        "  return y_predicted,y_true\n",
        "\n",
        "  def calculate_accuracy_metrics(confusion_matrix):\n",
        "    n_classes,_=confusion_matrix.shape\n",
        "    classes=[]\n",
        "    total=np.sum(confusion_matrix)\n",
        "    overall_accuracy=np.sum(np.diag(confusion_matrix))/total\n",
        "    \n",
        "    for c in range(n_classes):\n",
        "      tp=confusion_matrix[c,c]\n",
        "      fp=np.sum(confusion_matrix[:,c])-tp\n",
        "      fn=np.sum(confusion_matrix[c,:])-tp\n",
        "      tn=np.sum(np.diag(confusion_matrix))-tp\n",
        "\n",
        "      accuracy= (tp+tn)/(tp+fp+fn+tn)\n",
        "\n",
        "      if (tp+fn)>0:\n",
        "        recall=tp/(tp+fn)\n",
        "      else:\n",
        "        recall=None\n",
        "\n",
        "      if (fp+tn)>0:\n",
        "        specificity=tn/(fp+tn)\n",
        "      else:\n",
        "        specificity=None\n",
        "\n",
        "      if (tp+fp)>0:\n",
        "        precision=tp/(tp+fp)\n",
        "      else:\n",
        "        precision=None\n",
        "      \n",
        "      if (2*tp+fp+fn)>0:\n",
        "        fscore=2*tp/(2*tp+fp+fn)\n",
        "      else:\n",
        "        fscore=None\n",
        "      \n",
        "      if (tp+tn+fn+tn)>0:\n",
        "        random_accuracy=((tp+fn)*(tn+fn)+(fn+tp)*(fp+tp))/(tp+fp+fn+tn)**2\n",
        "        kappa=(accuracy-random_accuracy)/(1-random_accuracy)\n",
        "      else:\n",
        "        kappa=None\n",
        "\n",
        "      classes.append({\"accuracy\":accuracy,\"precision\":precision,\"recall\":recall,\"f_score\":fscore,\"specificity\":specificity,\"kappa\":kappa,\"total\":total})\n",
        "    return overall_accuracy,classes "
      ],
      "execution_count": 4,
      "outputs": []
    },
    {
      "cell_type": "code",
      "metadata": {
        "id": "wrS-YEzVcXQp",
        "colab_type": "code",
        "colab": {
          "base_uri": "https://localhost:8080/",
          "height": 34
        },
        "outputId": "9e31a516-202b-4166-eb1c-2a526a123d33"
      },
      "source": [
        "2**3"
      ],
      "execution_count": 3,
      "outputs": [
        {
          "output_type": "execute_result",
          "data": {
            "text/plain": [
              "8"
            ]
          },
          "metadata": {
            "tags": []
          },
          "execution_count": 3
        }
      ]
    }
  ]
}