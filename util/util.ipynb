{
  "nbformat": 4,
  "nbformat_minor": 0,
  "metadata": {
    "colab": {
      "name": "util.ipynb",
      "provenance": [],
      "authorship_tag": "ABX9TyPCPMSBmgBzcqgRHAv2I0S1",
      "include_colab_link": true
    },
    "kernelspec": {
      "name": "python3",
      "display_name": "Python 3"
    }
  },
  "cells": [
    {
      "cell_type": "markdown",
      "metadata": {
        "id": "view-in-github",
        "colab_type": "text"
      },
      "source": [
        "<a href=\"https://colab.research.google.com/github/NNFLgroup31/TemporalModelling-LSTM/blob/master/util/util.ipynb\" target=\"_parent\"><img src=\"https://colab.research.google.com/assets/colab-badge.svg\" alt=\"Open In Colab\"/></a>"
      ]
    },
    {
      "cell_type": "code",
      "metadata": {
        "id": "o_fjR9tQYZrL",
        "colab_type": "code",
        "colab": {}
      },
      "source": [
        "import re\n",
        "import _pickle as pickle\n",
        "import os\n",
        "\n",
        "def write_status_file(savedir,step,epoch,eta=None,train_xentropy=None, test_xentropy=None, train_oa=None, test_oa=None):\n",
        "  with open(savedir+\"/steps.txt\",\"w\") as f:\n",
        "    f.write(\"{} {} {} {} {} {} {}\".format(step,epoch,eta,train_xentropy,test_xentropy,train_oa,test_oa))\n",
        "\n",
        "def read_status_file(init_from):\n",
        "  with open(init_from+\"/steps.txt\",\"r\") as f:\n",
        "    line=f.read()\n",
        "    step_,epoch_ = line.split(\" \")[0:2]\n",
        "  return int(step_),int(epoch_)\n",
        "\n",
        "def params2name(l,r,d,f):\n",
        "  return \"{}l{}r{}d{}f\".format(l,r,int(d*100),f)\n",
        "\n",
        "def name2params(name):\n",
        "    regex = \"[0-9]+[a-z]\"\n",
        "    exp = re.findall(regex, name)\n",
        "    print(exp)\n",
        "    ls = []\n",
        "    for e in exp:\n",
        "        ls.append(int(re.sub(\"\\D\", \"\", e)))\n",
        "    return ls\n",
        "\n",
        "def getargs(runname):\n",
        "  return pickle.load(open(os.path.join(runname,\"args.pkl\"),\"r\"))\n"
      ],
      "execution_count": 13,
      "outputs": []
    }
  ]
}