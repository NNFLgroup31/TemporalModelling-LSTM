{
  "nbformat": 4,
  "nbformat_minor": 0,
  "metadata": {
    "colab": {
      "name": "Dataloader.ipynb",
      "provenance": [],
      "include_colab_link": true
    },
    "kernelspec": {
      "name": "python3",
      "display_name": "Python 3"
    }
  },
  "cells": [
    {
      "cell_type": "markdown",
      "metadata": {
        "id": "view-in-github",
        "colab_type": "text"
      },
      "source": [
        "<a href=\"https://colab.research.google.com/github/NNFLgroup31/TemporalModelling-LSTM/blob/master/Dataloader.ipynb\" target=\"_parent\"><img src=\"https://colab.research.google.com/assets/colab-badge.svg\" alt=\"Open In Colab\"/></a>"
      ]
    },
    {
      "cell_type": "code",
      "metadata": {
        "id": "lpbqAhDcIjuy",
        "colab_type": "code",
        "colab": {}
      },
      "source": [
        "import os\n",
        "import numpy as np\n",
        "import _pickle as pickle\n",
        "import torch\n",
        "\n",
        "class dataloader:\n",
        "  def __init__(self,datafolder,nbatches=None):\n",
        "    self.datafolder=datafolder\n",
        "    self.nbatches=len(os.listdir(datafolder))\n",
        "    self.epoch=0\n",
        "    self.batch=0\n",
        "    self.batchsize,self.maxobs,self.nfeatures,self.nclasses=self.query_datashape()\n",
        "\n",
        "  def query_datashape(self):\n",
        "    x,y,obs=self.get_databatch(advance=False)\n",
        "    \n",
        "    batchsize,maxobs,nfeatures=x.size()\n",
        "    batchsize, _,  nclasses = y.size()\n",
        "    return batchsize, maxobs, nfeatures, nclasses  \n",
        "\n",
        "  def new_epoch(self):\n",
        "    self.epoch +=1\n",
        "    self.batch =0\n",
        "\n",
        "  def get_databatch(self,advance=True):\n",
        "    if self.batch >= self.nbatches:\n",
        "      self.new_epoch()\n",
        "    if self.datafolder=='data/train' and self.batch==0:\n",
        "      self.batch +=1\n",
        "    with open(os.path.join(self.datafolder,\"b{}.pkl\".format(self.batch)),'rb') as f:\n",
        "      x=pickle.load(f,encoding='bytes')\n",
        "      data=(torch.from_numpy(x[0]),torch.from_numpy(x[1]),torch.from_numpy(x[2]))\n",
        "    \n",
        "    if advance:\n",
        "      self.batch += 1\n",
        "    return data\n",
        "\n",
        "  def next_batch(self):\n",
        "    return self.get_databatch()\n",
        "\n",
        "  \n",
        "\n",
        "    \n"
      ],
      "execution_count": null,
      "outputs": []
    }
  ]
}